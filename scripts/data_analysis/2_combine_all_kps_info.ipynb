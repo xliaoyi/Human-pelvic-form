{
 "cells": [
  {
   "cell_type": "code",
   "execution_count": 1,
   "metadata": {
    "execution": {
     "iopub.execute_input": "2023-03-19T15:14:58.017160Z",
     "iopub.status.busy": "2023-03-19T15:14:58.016656Z",
     "iopub.status.idle": "2023-03-19T15:14:59.026795Z",
     "shell.execute_reply": "2023-03-19T15:14:59.026032Z",
     "shell.execute_reply.started": "2023-03-19T15:14:58.017083Z"
    },
    "tags": []
   },
   "outputs": [],
   "source": [
    "import numpy as np\n",
    "import matplotlib.pyplot as plt\n",
    "import pandas as pd\n",
    "import json"
   ]
  },
  {
   "cell_type": "markdown",
   "metadata": {},
   "source": [
    "### Collect all dcm related information together"
   ]
  },
  {
   "cell_type": "code",
   "execution_count": 105,
   "metadata": {
    "tags": []
   },
   "outputs": [],
   "source": [
    "# load file infos\n",
    "dcm_info = pd.read_csv(\"all_prediction/dcm_file_info.csv\")\n",
    "p_info = pd.read_csv(\"all_prediction/Patient_EID.csv\", sep = '\\t')\n",
    "filename2id_82 = pd.read_csv(\"all_prediction/out_82/filename2id_82.csv\", index_col = 0)\n",
    "filename2id_93 = pd.read_csv(\"all_prediction/out_93/filename2id_93.csv\", index_col = 0)"
   ]
  },
  {
   "cell_type": "code",
   "execution_count": 106,
   "metadata": {
    "tags": []
   },
   "outputs": [],
   "source": [
    "dcm_info = p_info.merge(dcm_info, left_on = 'UID', right_on = 'file_name', how = 'inner').drop(columns = ['UID'])\n",
    "dcm_info['file_name'] = dcm_info['file_name'].apply(lambda x: x[:-4])"
   ]
  },
  {
   "cell_type": "code",
   "execution_count": 107,
   "metadata": {
    "tags": []
   },
   "outputs": [],
   "source": [
    "filename2id_82['img_size'] = \"816x288\"\n",
    "filename2id_93['img_size'] = \"960x384\""
   ]
  },
  {
   "cell_type": "code",
   "execution_count": 108,
   "metadata": {
    "tags": []
   },
   "outputs": [],
   "source": [
    "filename2id = pd.concat([filename2id_82, filename2id_93])\n",
    "filename2id['old_name'] = filename2id['old_name'].apply(lambda x: x[:-4])"
   ]
  },
  {
   "cell_type": "code",
   "execution_count": 109,
   "metadata": {
    "tags": []
   },
   "outputs": [],
   "source": [
    "img_info = dcm_info.merge(filename2id, left_on = \"file_name\", right_on = \"old_name\", how = \"inner\").drop(columns = ['old_name']).rename(columns = {'newName': 'image_id'})"
   ]
  },
  {
   "cell_type": "code",
   "execution_count": 111,
   "metadata": {
    "tags": []
   },
   "outputs": [],
   "source": [
    "img_info['image_id'] = img_info['image_id'].apply(lambda x: x[:-4])\n",
    "img_info['p_age'] = img_info['p_age'].apply(lambda x: float(x.replace('Y', '')))"
   ]
  },
  {
   "cell_type": "code",
   "execution_count": 113,
   "metadata": {
    "tags": []
   },
   "outputs": [],
   "source": [
    "img_info.to_csv(\"all_prediction/all_dcm_info.csv\", index = False)"
   ]
  },
  {
   "cell_type": "code",
   "execution_count": 2,
   "metadata": {
    "execution": {
     "iopub.execute_input": "2023-03-19T15:15:30.454206Z",
     "iopub.status.busy": "2023-03-19T15:15:30.453734Z",
     "iopub.status.idle": "2023-03-19T15:15:30.562764Z",
     "shell.execute_reply": "2023-03-19T15:15:30.561988Z",
     "shell.execute_reply.started": "2023-03-19T15:15:30.454178Z"
    },
    "tags": []
   },
   "outputs": [
    {
     "data": {
      "text/html": [
       "<div>\n",
       "<style scoped>\n",
       "    .dataframe tbody tr th:only-of-type {\n",
       "        vertical-align: middle;\n",
       "    }\n",
       "\n",
       "    .dataframe tbody tr th {\n",
       "        vertical-align: top;\n",
       "    }\n",
       "\n",
       "    .dataframe thead th {\n",
       "        text-align: right;\n",
       "    }\n",
       "</style>\n",
       "<table border=\"1\" class=\"dataframe\">\n",
       "  <thead>\n",
       "    <tr style=\"text-align: right;\">\n",
       "      <th></th>\n",
       "      <th>Patient EID</th>\n",
       "      <th>file_name</th>\n",
       "      <th>p_id</th>\n",
       "      <th>p_sex</th>\n",
       "      <th>p_age</th>\n",
       "      <th>p_weight</th>\n",
       "      <th>p_height</th>\n",
       "      <th>p_ethnicity</th>\n",
       "      <th>image_id</th>\n",
       "      <th>img_size</th>\n",
       "    </tr>\n",
       "  </thead>\n",
       "  <tbody>\n",
       "    <tr>\n",
       "      <th>0</th>\n",
       "      <td>1000276</td>\n",
       "      <td>1.2.840.113619.2.110.210419.20160630134650.1.1...</td>\n",
       "      <td>BJ MU YD 2B</td>\n",
       "      <td>F</td>\n",
       "      <td>67.0</td>\n",
       "      <td>60.0</td>\n",
       "      <td>1.59</td>\n",
       "      <td>White</td>\n",
       "      <td>8760</td>\n",
       "      <td>960x384</td>\n",
       "    </tr>\n",
       "    <tr>\n",
       "      <th>1</th>\n",
       "      <td>1000308</td>\n",
       "      <td>1.2.840.113619.2.110.212038.20190713145954.1.1...</td>\n",
       "      <td>MM QC ST M2</td>\n",
       "      <td>M</td>\n",
       "      <td>66.0</td>\n",
       "      <td>90.0</td>\n",
       "      <td>1.82</td>\n",
       "      <td>White</td>\n",
       "      <td>15998</td>\n",
       "      <td>816x288</td>\n",
       "    </tr>\n",
       "    <tr>\n",
       "      <th>2</th>\n",
       "      <td>1000320</td>\n",
       "      <td>1.2.840.113619.2.110.210419.20180924120844.1.1...</td>\n",
       "      <td>2A UV ZZ V9</td>\n",
       "      <td>F</td>\n",
       "      <td>64.0</td>\n",
       "      <td>79.0</td>\n",
       "      <td>1.66</td>\n",
       "      <td>White</td>\n",
       "      <td>2879</td>\n",
       "      <td>816x288</td>\n",
       "    </tr>\n",
       "    <tr>\n",
       "      <th>3</th>\n",
       "      <td>1000742</td>\n",
       "      <td>1.2.840.113619.2.110.210419.20170305174208.1.1...</td>\n",
       "      <td>BB QB 3J 4C</td>\n",
       "      <td>F</td>\n",
       "      <td>67.0</td>\n",
       "      <td>77.0</td>\n",
       "      <td>1.61</td>\n",
       "      <td>White</td>\n",
       "      <td>12347</td>\n",
       "      <td>960x384</td>\n",
       "    </tr>\n",
       "    <tr>\n",
       "      <th>4</th>\n",
       "      <td>1000951</td>\n",
       "      <td>1.2.840.113619.2.110.212038.20190307144208.1.1...</td>\n",
       "      <td>PE 9K HF 5V</td>\n",
       "      <td>M</td>\n",
       "      <td>78.0</td>\n",
       "      <td>60.0</td>\n",
       "      <td>1.70</td>\n",
       "      <td>White</td>\n",
       "      <td>14366</td>\n",
       "      <td>816x288</td>\n",
       "    </tr>\n",
       "  </tbody>\n",
       "</table>\n",
       "</div>"
      ],
      "text/plain": [
       "   Patient EID                                          file_name  \\\n",
       "0      1000276  1.2.840.113619.2.110.210419.20160630134650.1.1...   \n",
       "1      1000308  1.2.840.113619.2.110.212038.20190713145954.1.1...   \n",
       "2      1000320  1.2.840.113619.2.110.210419.20180924120844.1.1...   \n",
       "3      1000742  1.2.840.113619.2.110.210419.20170305174208.1.1...   \n",
       "4      1000951  1.2.840.113619.2.110.212038.20190307144208.1.1...   \n",
       "\n",
       "          p_id p_sex  p_age  p_weight  p_height p_ethnicity  image_id img_size  \n",
       "0  BJ MU YD 2B     F   67.0      60.0      1.59       White      8760  960x384  \n",
       "1  MM QC ST M2     M   66.0      90.0      1.82       White     15998  816x288  \n",
       "2  2A UV ZZ V9     F   64.0      79.0      1.66       White      2879  816x288  \n",
       "3  BB QB 3J 4C     F   67.0      77.0      1.61       White     12347  960x384  \n",
       "4  PE 9K HF 5V     M   78.0      60.0      1.70       White     14366  816x288  "
      ]
     },
     "execution_count": 2,
     "metadata": {},
     "output_type": "execute_result"
    }
   ],
   "source": [
    "all_dcm_info = pd.read_csv(\"all_prediction/all_dcm_info.csv\"); all_dcm_info.head()"
   ]
  },
  {
   "cell_type": "markdown",
   "metadata": {},
   "source": [
    "### Load all prediction results and convert to json"
   ]
  },
  {
   "cell_type": "code",
   "execution_count": 3,
   "metadata": {
    "execution": {
     "iopub.execute_input": "2023-03-19T15:17:50.040712Z",
     "iopub.status.busy": "2023-03-19T15:17:50.040343Z",
     "iopub.status.idle": "2023-03-19T15:17:51.033284Z",
     "shell.execute_reply": "2023-03-19T15:17:51.032625Z",
     "shell.execute_reply.started": "2023-03-19T15:17:50.040684Z"
    },
    "tags": []
   },
   "outputs": [],
   "source": [
    "pred_82_hrnet32 = json.load(open(\"all_prediction/hrnet32_82_pred.json\"))\n",
    "pred_93_hrnet32 = json.load(open(\"all_prediction/hrnet32_93_pred.json\"))"
   ]
  },
  {
   "cell_type": "code",
   "execution_count": 116,
   "metadata": {
    "tags": []
   },
   "outputs": [],
   "source": [
    "pred_82 = json.load(open(\"all_prediction/out_82/w48_384x288_adam_lr1e-3/results/keypoints_DXA_images_results_0.json\"))\n",
    "pred_93 = json.load(open(\"all_prediction/out_93/w48_384x288_adam_lr1e-3/results/keypoints_DXA_images_results_0.json\"))"
   ]
  },
  {
   "cell_type": "code",
   "execution_count": 6,
   "metadata": {
    "execution": {
     "iopub.execute_input": "2023-03-19T15:18:13.320719Z",
     "iopub.status.busy": "2023-03-19T15:18:13.320367Z",
     "iopub.status.idle": "2023-03-19T15:18:13.326709Z",
     "shell.execute_reply": "2023-03-19T15:18:13.325897Z",
     "shell.execute_reply.started": "2023-03-19T15:18:13.320690Z"
    },
    "tags": []
   },
   "outputs": [
    {
     "data": {
      "text/plain": [
       "[[91.80082702636719, 104.92684936523438],\n",
       " [158.67330932617188, 102.52780151367188],\n",
       " [68.57380676269531, 122.09596252441406],\n",
       " [183.84519958496094, 119.68023681640625],\n",
       " [84.67841339111328, 155.212158203125],\n",
       " [171.88943481445312, 152.32269287109375],\n",
       " [112.96192932128906, 192.94151306152344],\n",
       " [146.41798400878906, 191.5376434326172],\n",
       " [130.135498046875, 179.15628051757812],\n",
       " [102.7840805053711, 147.3951416015625],\n",
       " [152.47885131835938, 147.0712127685547],\n",
       " [125.96241760253906, 131.56491088867188],\n",
       " [129.25845336914062, 167.92706298828125],\n",
       " [70.55278778076172, 164.2945098876953],\n",
       " [188.2298126220703, 162.6647186279297],\n",
       " [113.80331420898438, 181.8066864013672],\n",
       " [144.6820068359375, 180.0986785888672]]"
      ]
     },
     "execution_count": 6,
     "metadata": {},
     "output_type": "execute_result"
    }
   ],
   "source": [
    "pred_82_hrnet32['00007']"
   ]
  },
  {
   "cell_type": "code",
   "execution_count": 7,
   "metadata": {
    "execution": {
     "iopub.execute_input": "2023-03-19T15:18:27.086452Z",
     "iopub.status.busy": "2023-03-19T15:18:27.086115Z",
     "iopub.status.idle": "2023-03-19T15:18:27.093516Z",
     "shell.execute_reply": "2023-03-19T15:18:27.092302Z",
     "shell.execute_reply.started": "2023-03-19T15:18:27.086426Z"
    },
    "tags": []
   },
   "outputs": [
    {
     "data": {
      "text/plain": [
       "21981"
      ]
     },
     "execution_count": 7,
     "metadata": {},
     "output_type": "execute_result"
    }
   ],
   "source": [
    "len(pred_82_hrnet32.keys())"
   ]
  },
  {
   "cell_type": "code",
   "execution_count": 8,
   "metadata": {
    "execution": {
     "iopub.execute_input": "2023-03-19T15:18:37.717691Z",
     "iopub.status.busy": "2023-03-19T15:18:37.717354Z",
     "iopub.status.idle": "2023-03-19T15:18:37.724515Z",
     "shell.execute_reply": "2023-03-19T15:18:37.723257Z",
     "shell.execute_reply.started": "2023-03-19T15:18:37.717666Z"
    },
    "tags": []
   },
   "outputs": [
    {
     "data": {
      "text/plain": [
       "17488"
      ]
     },
     "execution_count": 8,
     "metadata": {},
     "output_type": "execute_result"
    }
   ],
   "source": [
    "len(pred_93_hrnet32.keys())"
   ]
  },
  {
   "cell_type": "markdown",
   "metadata": {},
   "source": [
    "### from hrnet32"
   ]
  },
  {
   "cell_type": "code",
   "execution_count": 31,
   "metadata": {
    "execution": {
     "iopub.execute_input": "2023-03-19T15:53:39.970830Z",
     "iopub.status.busy": "2023-03-19T15:53:39.970010Z",
     "iopub.status.idle": "2023-03-19T15:53:40.172108Z",
     "shell.execute_reply": "2023-03-19T15:53:40.171373Z",
     "shell.execute_reply.started": "2023-03-19T15:53:39.970771Z"
    },
    "tags": []
   },
   "outputs": [],
   "source": [
    "all_pred = {'816x288': [], '960x384': []}\n",
    "\n",
    "for img_id in sorted(pred_82_hrnet32.keys()):\n",
    "    single_img = {img_id: {}}\n",
    "    kps = pred_82_hrnet32[img_id]\n",
    "    single_img[img_id]['iliac_crest_left'] = kps[0]\n",
    "    single_img[img_id]['iliac_crest_right'] = kps[1]\n",
    "    single_img[img_id]['iliac_spine_left'] = kps[2]\n",
    "    single_img[img_id]['iliac_spine_right'] = kps[3]\n",
    "    single_img[img_id]['iliopubic_eminence_left'] = kps[4]\n",
    "    single_img[img_id]['iliopubic_eminence_right'] = kps[5]\n",
    "    single_img[img_id]['inferior_pubic_ramus_left'] = kps[6]\n",
    "    single_img[img_id]['inferior_pubic_ramus_right'] = kps[7]\n",
    "    single_img[img_id]['pubic_arch'] = kps[8]\n",
    "    single_img[img_id]['sciatic_notch_left'] = kps[9]\n",
    "    single_img[img_id]['sciatic_notch_right'] = kps[10]\n",
    "    single_img[img_id]['sacrum'] = kps[11]\n",
    "    single_img[img_id]['pubic_tubercle'] = kps[12]\n",
    "    single_img[img_id]['trochanter_left'] = kps[13]\n",
    "    single_img[img_id]['trochanter_right'] = kps[14]\n",
    "    single_img[img_id]['obturator_left'] = kps[15]\n",
    "    single_img[img_id]['obturator_right'] = kps[16]\n",
    "    all_pred['816x288'].append(single_img)\n",
    "\n",
    "for img_id in sorted(pred_93_hrnet32.keys()):\n",
    "    single_img = {img_id: {}}\n",
    "    kps = pred_93_hrnet32[img_id]\n",
    "    single_img[img_id]['iliac_crest_left'] = kps[0]\n",
    "    single_img[img_id]['iliac_crest_right'] = kps[1]\n",
    "    single_img[img_id]['iliac_spine_left'] = kps[2]\n",
    "    single_img[img_id]['iliac_spine_right'] = kps[3]\n",
    "    single_img[img_id]['iliopubic_eminence_left'] = kps[4]\n",
    "    single_img[img_id]['iliopubic_eminence_right'] = kps[5]\n",
    "    single_img[img_id]['inferior_pubic_ramus_left'] = kps[6]\n",
    "    single_img[img_id]['inferior_pubic_ramus_right'] = kps[7]\n",
    "    single_img[img_id]['pubic_arch'] = kps[8]\n",
    "    single_img[img_id]['sciatic_notch_left'] = kps[9]\n",
    "    single_img[img_id]['sciatic_notch_right'] = kps[10]\n",
    "    single_img[img_id]['sacrum'] = kps[11]\n",
    "    single_img[img_id]['pubic_tubercle'] = kps[12]\n",
    "    single_img[img_id]['trochanter_left'] = kps[13]\n",
    "    single_img[img_id]['trochanter_right'] = kps[14]\n",
    "    single_img[img_id]['obturator_left'] = kps[15]\n",
    "    single_img[img_id]['obturator_right'] = kps[16]\n",
    "    all_pred['960x384'].append(single_img)"
   ]
  },
  {
   "cell_type": "code",
   "execution_count": 32,
   "metadata": {
    "execution": {
     "iopub.execute_input": "2023-03-19T15:53:41.452042Z",
     "iopub.status.busy": "2023-03-19T15:53:41.451717Z",
     "iopub.status.idle": "2023-03-19T15:53:44.262424Z",
     "shell.execute_reply": "2023-03-19T15:53:44.261811Z",
     "shell.execute_reply.started": "2023-03-19T15:53:41.452018Z"
    },
    "tags": []
   },
   "outputs": [],
   "source": [
    "with open(\"./all_prediction/kps_coordinate_hrnet32.json\", \"w\") as f:\n",
    "    json.dump(all_pred, f)"
   ]
  },
  {
   "cell_type": "code",
   "execution_count": null,
   "metadata": {},
   "outputs": [],
   "source": []
  }
 ],
 "metadata": {
  "kernelspec": {
   "display_name": "Python 3 (ipykernel)",
   "language": "python",
   "name": "python3"
  },
  "language_info": {
   "codemirror_mode": {
    "name": "ipython",
    "version": 3
   },
   "file_extension": ".py",
   "mimetype": "text/x-python",
   "name": "python",
   "nbconvert_exporter": "python",
   "pygments_lexer": "ipython3",
   "version": "3.8.15"
  }
 },
 "nbformat": 4,
 "nbformat_minor": 4
}
